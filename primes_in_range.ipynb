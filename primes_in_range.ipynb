{
 "cells": [
  {
   "cell_type": "code",
   "execution_count": null,
   "id": "bf1863fd",
   "metadata": {},
   "outputs": [],
   "source": [
    "def prime(n):\n",
    "    for i in range(2, int(n/2)+1):\n",
    "        if (n % i) == 0:\n",
    "            return False\n",
    "\n",
    "    else:\n",
    "        return True\n",
    "    \n",
    "def prime_numbers_inInterval(a,b):\n",
    "    for i in range(a,b+1):\n",
    "        a=prime(i)\n",
    "        if a:\n",
    "            print(i)\n",
    "        \n",
    "            \n",
    "prime_numbers_inInterval(2,20) #change interval as defined"
   ]
  }
 ],
 "metadata": {
  "kernelspec": {
   "display_name": "Python 3 (ipykernel)",
   "language": "python",
   "name": "python3"
  },
  "language_info": {
   "codemirror_mode": {
    "name": "ipython",
    "version": 3
   },
   "file_extension": ".py",
   "mimetype": "text/x-python",
   "name": "python",
   "nbconvert_exporter": "python",
   "pygments_lexer": "ipython3",
   "version": "3.10.9"
  }
 },
 "nbformat": 4,
 "nbformat_minor": 5
}
